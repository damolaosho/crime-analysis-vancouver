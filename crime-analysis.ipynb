{
 "cells": [
  {
   "cell_type": "markdown",
   "metadata": {},
   "source": [
    "#### PREPARE DATA"
   ]
  },
  {
   "cell_type": "code",
   "execution_count": 1,
   "metadata": {},
   "outputs": [],
   "source": [
    "#importing libraries\n",
    "import numpy as np\n",
    "import matplotlib.pyplot as plt\n",
    "import pandas as pd\n",
    "import seaborn as sns\n",
    "\n",
    "sns.set_style('whitegrid')"
   ]
  },
  {
   "cell_type": "code",
   "execution_count": 2,
   "metadata": {},
   "outputs": [],
   "source": [
    "df = pd.read_csv(\"crime.csv\")"
   ]
  },
  {
   "cell_type": "markdown",
   "metadata": {},
   "source": [
    "#### PROCESS DATA"
   ]
  },
  {
   "cell_type": "code",
   "execution_count": 3,
   "metadata": {},
   "outputs": [
    {
     "data": {
      "text/html": [
       "<div>\n",
       "<style scoped>\n",
       "    .dataframe tbody tr th:only-of-type {\n",
       "        vertical-align: middle;\n",
       "    }\n",
       "\n",
       "    .dataframe tbody tr th {\n",
       "        vertical-align: top;\n",
       "    }\n",
       "\n",
       "    .dataframe thead th {\n",
       "        text-align: right;\n",
       "    }\n",
       "</style>\n",
       "<table border=\"1\" class=\"dataframe\">\n",
       "  <thead>\n",
       "    <tr style=\"text-align: right;\">\n",
       "      <th></th>\n",
       "      <th>TYPE</th>\n",
       "      <th>YEAR</th>\n",
       "      <th>MONTH</th>\n",
       "      <th>DAY</th>\n",
       "      <th>HOUR</th>\n",
       "      <th>MINUTE</th>\n",
       "      <th>HUNDRED_BLOCK</th>\n",
       "      <th>NEIGHBOURHOOD</th>\n",
       "      <th>X</th>\n",
       "      <th>Y</th>\n",
       "      <th>Latitude</th>\n",
       "      <th>Longitude</th>\n",
       "    </tr>\n",
       "  </thead>\n",
       "  <tbody>\n",
       "    <tr>\n",
       "      <th>0</th>\n",
       "      <td>Other Theft</td>\n",
       "      <td>2003</td>\n",
       "      <td>5</td>\n",
       "      <td>12</td>\n",
       "      <td>16.0</td>\n",
       "      <td>15.0</td>\n",
       "      <td>9XX TERMINAL AVE</td>\n",
       "      <td>Strathcona</td>\n",
       "      <td>493906.5</td>\n",
       "      <td>5457452.47</td>\n",
       "      <td>49.269802</td>\n",
       "      <td>-123.083763</td>\n",
       "    </tr>\n",
       "    <tr>\n",
       "      <th>1</th>\n",
       "      <td>Other Theft</td>\n",
       "      <td>2003</td>\n",
       "      <td>5</td>\n",
       "      <td>7</td>\n",
       "      <td>15.0</td>\n",
       "      <td>20.0</td>\n",
       "      <td>9XX TERMINAL AVE</td>\n",
       "      <td>Strathcona</td>\n",
       "      <td>493906.5</td>\n",
       "      <td>5457452.47</td>\n",
       "      <td>49.269802</td>\n",
       "      <td>-123.083763</td>\n",
       "    </tr>\n",
       "    <tr>\n",
       "      <th>2</th>\n",
       "      <td>Other Theft</td>\n",
       "      <td>2003</td>\n",
       "      <td>4</td>\n",
       "      <td>23</td>\n",
       "      <td>16.0</td>\n",
       "      <td>40.0</td>\n",
       "      <td>9XX TERMINAL AVE</td>\n",
       "      <td>Strathcona</td>\n",
       "      <td>493906.5</td>\n",
       "      <td>5457452.47</td>\n",
       "      <td>49.269802</td>\n",
       "      <td>-123.083763</td>\n",
       "    </tr>\n",
       "    <tr>\n",
       "      <th>3</th>\n",
       "      <td>Other Theft</td>\n",
       "      <td>2003</td>\n",
       "      <td>4</td>\n",
       "      <td>20</td>\n",
       "      <td>11.0</td>\n",
       "      <td>15.0</td>\n",
       "      <td>9XX TERMINAL AVE</td>\n",
       "      <td>Strathcona</td>\n",
       "      <td>493906.5</td>\n",
       "      <td>5457452.47</td>\n",
       "      <td>49.269802</td>\n",
       "      <td>-123.083763</td>\n",
       "    </tr>\n",
       "    <tr>\n",
       "      <th>4</th>\n",
       "      <td>Other Theft</td>\n",
       "      <td>2003</td>\n",
       "      <td>4</td>\n",
       "      <td>12</td>\n",
       "      <td>17.0</td>\n",
       "      <td>45.0</td>\n",
       "      <td>9XX TERMINAL AVE</td>\n",
       "      <td>Strathcona</td>\n",
       "      <td>493906.5</td>\n",
       "      <td>5457452.47</td>\n",
       "      <td>49.269802</td>\n",
       "      <td>-123.083763</td>\n",
       "    </tr>\n",
       "  </tbody>\n",
       "</table>\n",
       "</div>"
      ],
      "text/plain": [
       "          TYPE  YEAR  MONTH  DAY  HOUR  MINUTE     HUNDRED_BLOCK  \\\n",
       "0  Other Theft  2003      5   12  16.0    15.0  9XX TERMINAL AVE   \n",
       "1  Other Theft  2003      5    7  15.0    20.0  9XX TERMINAL AVE   \n",
       "2  Other Theft  2003      4   23  16.0    40.0  9XX TERMINAL AVE   \n",
       "3  Other Theft  2003      4   20  11.0    15.0  9XX TERMINAL AVE   \n",
       "4  Other Theft  2003      4   12  17.0    45.0  9XX TERMINAL AVE   \n",
       "\n",
       "  NEIGHBOURHOOD         X           Y   Latitude   Longitude  \n",
       "0    Strathcona  493906.5  5457452.47  49.269802 -123.083763  \n",
       "1    Strathcona  493906.5  5457452.47  49.269802 -123.083763  \n",
       "2    Strathcona  493906.5  5457452.47  49.269802 -123.083763  \n",
       "3    Strathcona  493906.5  5457452.47  49.269802 -123.083763  \n",
       "4    Strathcona  493906.5  5457452.47  49.269802 -123.083763  "
      ]
     },
     "execution_count": 3,
     "metadata": {},
     "output_type": "execute_result"
    }
   ],
   "source": [
    "df.head()"
   ]
  },
  {
   "cell_type": "code",
   "execution_count": 4,
   "metadata": {},
   "outputs": [
    {
     "data": {
      "text/html": [
       "<div>\n",
       "<style scoped>\n",
       "    .dataframe tbody tr th:only-of-type {\n",
       "        vertical-align: middle;\n",
       "    }\n",
       "\n",
       "    .dataframe tbody tr th {\n",
       "        vertical-align: top;\n",
       "    }\n",
       "\n",
       "    .dataframe thead th {\n",
       "        text-align: right;\n",
       "    }\n",
       "</style>\n",
       "<table border=\"1\" class=\"dataframe\">\n",
       "  <thead>\n",
       "    <tr style=\"text-align: right;\">\n",
       "      <th></th>\n",
       "      <th>TYPE</th>\n",
       "      <th>YEAR</th>\n",
       "      <th>MONTH</th>\n",
       "      <th>DAY</th>\n",
       "      <th>HOUR</th>\n",
       "      <th>MINUTE</th>\n",
       "      <th>HUNDRED_BLOCK</th>\n",
       "      <th>NEIGHBOURHOOD</th>\n",
       "      <th>X</th>\n",
       "      <th>Y</th>\n",
       "      <th>Latitude</th>\n",
       "      <th>Longitude</th>\n",
       "    </tr>\n",
       "  </thead>\n",
       "  <tbody>\n",
       "    <tr>\n",
       "      <th>530647</th>\n",
       "      <td>Break and Enter Residential/Other</td>\n",
       "      <td>2017</td>\n",
       "      <td>3</td>\n",
       "      <td>3</td>\n",
       "      <td>9.0</td>\n",
       "      <td>16.0</td>\n",
       "      <td>31XX ADANAC ST</td>\n",
       "      <td>Hastings-Sunrise</td>\n",
       "      <td>497265.49</td>\n",
       "      <td>5458296.71</td>\n",
       "      <td>49.277420</td>\n",
       "      <td>-123.037595</td>\n",
       "    </tr>\n",
       "    <tr>\n",
       "      <th>530648</th>\n",
       "      <td>Mischief</td>\n",
       "      <td>2017</td>\n",
       "      <td>5</td>\n",
       "      <td>29</td>\n",
       "      <td>22.0</td>\n",
       "      <td>30.0</td>\n",
       "      <td>14XX E 7TH AVE</td>\n",
       "      <td>Grandview-Woodland</td>\n",
       "      <td>494533.97</td>\n",
       "      <td>5456824.97</td>\n",
       "      <td>49.264163</td>\n",
       "      <td>-123.075129</td>\n",
       "    </tr>\n",
       "    <tr>\n",
       "      <th>530649</th>\n",
       "      <td>Offence Against a Person</td>\n",
       "      <td>2017</td>\n",
       "      <td>4</td>\n",
       "      <td>13</td>\n",
       "      <td>NaN</td>\n",
       "      <td>NaN</td>\n",
       "      <td>OFFSET TO PROTECT PRIVACY</td>\n",
       "      <td>NaN</td>\n",
       "      <td>0.00</td>\n",
       "      <td>0.00</td>\n",
       "      <td>0.000000</td>\n",
       "      <td>0.000000</td>\n",
       "    </tr>\n",
       "    <tr>\n",
       "      <th>530650</th>\n",
       "      <td>Theft from Vehicle</td>\n",
       "      <td>2017</td>\n",
       "      <td>6</td>\n",
       "      <td>5</td>\n",
       "      <td>17.0</td>\n",
       "      <td>0.0</td>\n",
       "      <td>8XX HAMILTON ST</td>\n",
       "      <td>Central Business District</td>\n",
       "      <td>491487.85</td>\n",
       "      <td>5458385.78</td>\n",
       "      <td>49.278168</td>\n",
       "      <td>-123.117031</td>\n",
       "    </tr>\n",
       "    <tr>\n",
       "      <th>530651</th>\n",
       "      <td>Vehicle Collision or Pedestrian Struck (with I...</td>\n",
       "      <td>2017</td>\n",
       "      <td>6</td>\n",
       "      <td>6</td>\n",
       "      <td>17.0</td>\n",
       "      <td>38.0</td>\n",
       "      <td>13XX BLOCK PARK DR</td>\n",
       "      <td>Marpole</td>\n",
       "      <td>490204.00</td>\n",
       "      <td>5451444.00</td>\n",
       "      <td>49.215706</td>\n",
       "      <td>-123.134512</td>\n",
       "    </tr>\n",
       "  </tbody>\n",
       "</table>\n",
       "</div>"
      ],
      "text/plain": [
       "                                                     TYPE  YEAR  MONTH  DAY  \\\n",
       "530647                  Break and Enter Residential/Other  2017      3    3   \n",
       "530648                                           Mischief  2017      5   29   \n",
       "530649                           Offence Against a Person  2017      4   13   \n",
       "530650                                 Theft from Vehicle  2017      6    5   \n",
       "530651  Vehicle Collision or Pedestrian Struck (with I...  2017      6    6   \n",
       "\n",
       "        HOUR  MINUTE              HUNDRED_BLOCK              NEIGHBOURHOOD  \\\n",
       "530647   9.0    16.0             31XX ADANAC ST           Hastings-Sunrise   \n",
       "530648  22.0    30.0             14XX E 7TH AVE         Grandview-Woodland   \n",
       "530649   NaN     NaN  OFFSET TO PROTECT PRIVACY                        NaN   \n",
       "530650  17.0     0.0            8XX HAMILTON ST  Central Business District   \n",
       "530651  17.0    38.0         13XX BLOCK PARK DR                    Marpole   \n",
       "\n",
       "                X           Y   Latitude   Longitude  \n",
       "530647  497265.49  5458296.71  49.277420 -123.037595  \n",
       "530648  494533.97  5456824.97  49.264163 -123.075129  \n",
       "530649       0.00        0.00   0.000000    0.000000  \n",
       "530650  491487.85  5458385.78  49.278168 -123.117031  \n",
       "530651  490204.00  5451444.00  49.215706 -123.134512  "
      ]
     },
     "execution_count": 4,
     "metadata": {},
     "output_type": "execute_result"
    }
   ],
   "source": [
    "df.tail()"
   ]
  },
  {
   "cell_type": "code",
   "execution_count": 5,
   "metadata": {},
   "outputs": [
    {
     "name": "stdout",
     "output_type": "stream",
     "text": [
      "<class 'pandas.core.frame.DataFrame'>\n",
      "RangeIndex: 530652 entries, 0 to 530651\n",
      "Data columns (total 12 columns):\n",
      " #   Column         Non-Null Count   Dtype  \n",
      "---  ------         --------------   -----  \n",
      " 0   TYPE           530652 non-null  object \n",
      " 1   YEAR           530652 non-null  int64  \n",
      " 2   MONTH          530652 non-null  int64  \n",
      " 3   DAY            530652 non-null  int64  \n",
      " 4   HOUR           476290 non-null  float64\n",
      " 5   MINUTE         476290 non-null  float64\n",
      " 6   HUNDRED_BLOCK  530639 non-null  object \n",
      " 7   NEIGHBOURHOOD  474028 non-null  object \n",
      " 8   X              530652 non-null  float64\n",
      " 9   Y              530652 non-null  float64\n",
      " 10  Latitude       530652 non-null  float64\n",
      " 11  Longitude      530652 non-null  float64\n",
      "dtypes: float64(6), int64(3), object(3)\n",
      "memory usage: 48.6+ MB\n"
     ]
    }
   ],
   "source": [
    "df.info()"
   ]
  },
  {
   "cell_type": "code",
   "execution_count": 6,
   "metadata": {},
   "outputs": [
    {
     "data": {
      "text/plain": [
       "TYPE                 11\n",
       "YEAR                 15\n",
       "MONTH                12\n",
       "DAY                  31\n",
       "HOUR                 24\n",
       "MINUTE               60\n",
       "HUNDRED_BLOCK     21204\n",
       "NEIGHBOURHOOD        24\n",
       "X                 95502\n",
       "Y                 93544\n",
       "Latitude         101885\n",
       "Longitude         98972\n",
       "dtype: int64"
      ]
     },
     "execution_count": 6,
     "metadata": {},
     "output_type": "execute_result"
    }
   ],
   "source": [
    "df.nunique()"
   ]
  },
  {
   "cell_type": "markdown",
   "metadata": {},
   "source": [
    "This tells us a few things:\n",
    "\n",
    "1. There are 11 distinct types of crimes in this dataset\n",
    "2. 24 noted neighbourhoods\n",
    "3. The count for days and year is valid"
   ]
  },
  {
   "cell_type": "code",
   "execution_count": 7,
   "metadata": {},
   "outputs": [
    {
     "data": {
      "text/html": [
       "<div>\n",
       "<style scoped>\n",
       "    .dataframe tbody tr th:only-of-type {\n",
       "        vertical-align: middle;\n",
       "    }\n",
       "\n",
       "    .dataframe tbody tr th {\n",
       "        vertical-align: top;\n",
       "    }\n",
       "\n",
       "    .dataframe thead th {\n",
       "        text-align: right;\n",
       "    }\n",
       "</style>\n",
       "<table border=\"1\" class=\"dataframe\">\n",
       "  <thead>\n",
       "    <tr style=\"text-align: right;\">\n",
       "      <th></th>\n",
       "      <th>YEAR</th>\n",
       "      <th>MONTH</th>\n",
       "      <th>DAY</th>\n",
       "      <th>HOUR</th>\n",
       "      <th>MINUTE</th>\n",
       "      <th>X</th>\n",
       "      <th>Y</th>\n",
       "      <th>Latitude</th>\n",
       "      <th>Longitude</th>\n",
       "    </tr>\n",
       "  </thead>\n",
       "  <tbody>\n",
       "    <tr>\n",
       "      <th>count</th>\n",
       "      <td>530652.000000</td>\n",
       "      <td>530652.000000</td>\n",
       "      <td>530652.000000</td>\n",
       "      <td>476290.000000</td>\n",
       "      <td>476290.000000</td>\n",
       "      <td>530652.000000</td>\n",
       "      <td>5.306520e+05</td>\n",
       "      <td>530652.000000</td>\n",
       "      <td>530652.000000</td>\n",
       "    </tr>\n",
       "    <tr>\n",
       "      <th>mean</th>\n",
       "      <td>2009.197956</td>\n",
       "      <td>6.450597</td>\n",
       "      <td>15.408590</td>\n",
       "      <td>13.711254</td>\n",
       "      <td>16.940039</td>\n",
       "      <td>441802.149909</td>\n",
       "      <td>4.897663e+06</td>\n",
       "      <td>44.216029</td>\n",
       "      <td>-110.495297</td>\n",
       "    </tr>\n",
       "    <tr>\n",
       "      <th>std</th>\n",
       "      <td>4.386272</td>\n",
       "      <td>3.399212</td>\n",
       "      <td>8.750642</td>\n",
       "      <td>6.767744</td>\n",
       "      <td>18.418950</td>\n",
       "      <td>149281.547656</td>\n",
       "      <td>1.654633e+06</td>\n",
       "      <td>14.938004</td>\n",
       "      <td>37.329862</td>\n",
       "    </tr>\n",
       "    <tr>\n",
       "      <th>min</th>\n",
       "      <td>2003.000000</td>\n",
       "      <td>1.000000</td>\n",
       "      <td>1.000000</td>\n",
       "      <td>0.000000</td>\n",
       "      <td>0.000000</td>\n",
       "      <td>0.000000</td>\n",
       "      <td>0.000000e+00</td>\n",
       "      <td>0.000000</td>\n",
       "      <td>-124.549757</td>\n",
       "    </tr>\n",
       "    <tr>\n",
       "      <th>25%</th>\n",
       "      <td>2005.000000</td>\n",
       "      <td>4.000000</td>\n",
       "      <td>8.000000</td>\n",
       "      <td>9.000000</td>\n",
       "      <td>0.000000</td>\n",
       "      <td>489944.452500</td>\n",
       "      <td>5.453651e+06</td>\n",
       "      <td>49.235573</td>\n",
       "      <td>-123.127194</td>\n",
       "    </tr>\n",
       "    <tr>\n",
       "      <th>50%</th>\n",
       "      <td>2009.000000</td>\n",
       "      <td>6.000000</td>\n",
       "      <td>15.000000</td>\n",
       "      <td>15.000000</td>\n",
       "      <td>10.000000</td>\n",
       "      <td>491499.240000</td>\n",
       "      <td>5.456840e+06</td>\n",
       "      <td>49.264251</td>\n",
       "      <td>-123.107128</td>\n",
       "    </tr>\n",
       "    <tr>\n",
       "      <th>75%</th>\n",
       "      <td>2013.000000</td>\n",
       "      <td>9.000000</td>\n",
       "      <td>23.000000</td>\n",
       "      <td>19.000000</td>\n",
       "      <td>30.000000</td>\n",
       "      <td>493547.210000</td>\n",
       "      <td>5.458638e+06</td>\n",
       "      <td>49.280441</td>\n",
       "      <td>-123.065932</td>\n",
       "    </tr>\n",
       "    <tr>\n",
       "      <th>max</th>\n",
       "      <td>2017.000000</td>\n",
       "      <td>12.000000</td>\n",
       "      <td>31.000000</td>\n",
       "      <td>23.000000</td>\n",
       "      <td>59.000000</td>\n",
       "      <td>511303.000000</td>\n",
       "      <td>5.512579e+06</td>\n",
       "      <td>49.755314</td>\n",
       "      <td>0.000000</td>\n",
       "    </tr>\n",
       "  </tbody>\n",
       "</table>\n",
       "</div>"
      ],
      "text/plain": [
       "                YEAR          MONTH            DAY           HOUR  \\\n",
       "count  530652.000000  530652.000000  530652.000000  476290.000000   \n",
       "mean     2009.197956       6.450597      15.408590      13.711254   \n",
       "std         4.386272       3.399212       8.750642       6.767744   \n",
       "min      2003.000000       1.000000       1.000000       0.000000   \n",
       "25%      2005.000000       4.000000       8.000000       9.000000   \n",
       "50%      2009.000000       6.000000      15.000000      15.000000   \n",
       "75%      2013.000000       9.000000      23.000000      19.000000   \n",
       "max      2017.000000      12.000000      31.000000      23.000000   \n",
       "\n",
       "              MINUTE              X             Y       Latitude  \\\n",
       "count  476290.000000  530652.000000  5.306520e+05  530652.000000   \n",
       "mean       16.940039  441802.149909  4.897663e+06      44.216029   \n",
       "std        18.418950  149281.547656  1.654633e+06      14.938004   \n",
       "min         0.000000       0.000000  0.000000e+00       0.000000   \n",
       "25%         0.000000  489944.452500  5.453651e+06      49.235573   \n",
       "50%        10.000000  491499.240000  5.456840e+06      49.264251   \n",
       "75%        30.000000  493547.210000  5.458638e+06      49.280441   \n",
       "max        59.000000  511303.000000  5.512579e+06      49.755314   \n",
       "\n",
       "           Longitude  \n",
       "count  530652.000000  \n",
       "mean     -110.495297  \n",
       "std        37.329862  \n",
       "min      -124.549757  \n",
       "25%      -123.127194  \n",
       "50%      -123.107128  \n",
       "75%      -123.065932  \n",
       "max         0.000000  "
      ]
     },
     "execution_count": 7,
     "metadata": {},
     "output_type": "execute_result"
    }
   ],
   "source": [
    "df.describe()"
   ]
  },
  {
   "cell_type": "code",
   "execution_count": 8,
   "metadata": {},
   "outputs": [
    {
     "data": {
      "text/plain": [
       "(530652, 12)"
      ]
     },
     "execution_count": 8,
     "metadata": {},
     "output_type": "execute_result"
    }
   ],
   "source": [
    "df.shape"
   ]
  },
  {
   "cell_type": "code",
   "execution_count": 9,
   "metadata": {},
   "outputs": [
    {
     "data": {
      "text/plain": [
       "TYPE                 0\n",
       "YEAR                 0\n",
       "MONTH                0\n",
       "DAY                  0\n",
       "HOUR             54362\n",
       "MINUTE           54362\n",
       "HUNDRED_BLOCK       13\n",
       "NEIGHBOURHOOD    56624\n",
       "X                    0\n",
       "Y                    0\n",
       "Latitude             0\n",
       "Longitude            0\n",
       "dtype: int64"
      ]
     },
     "execution_count": 9,
     "metadata": {},
     "output_type": "execute_result"
    }
   ],
   "source": [
    "df.isnull().sum()"
   ]
  },
  {
   "cell_type": "markdown",
   "metadata": {},
   "source": [
    "24 noted neighbourhoods"
   ]
  },
  {
   "cell_type": "markdown",
   "metadata": {},
   "source": [
    "CLEANING DATA "
   ]
  },
  {
   "cell_type": "code",
   "execution_count": 10,
   "metadata": {},
   "outputs": [],
   "source": [
    "df_drop = ['X', 'Y', 'Latitude', 'Longitude', 'MINUTE']"
   ]
  },
  {
   "cell_type": "code",
   "execution_count": 11,
   "metadata": {},
   "outputs": [
    {
     "data": {
      "text/plain": [
       "Index(['TYPE', 'YEAR', 'MONTH', 'DAY', 'HOUR', 'MINUTE', 'HUNDRED_BLOCK',\n",
       "       'NEIGHBOURHOOD', 'X', 'Y', 'Latitude', 'Longitude'],\n",
       "      dtype='object')"
      ]
     },
     "execution_count": 11,
     "metadata": {},
     "output_type": "execute_result"
    }
   ],
   "source": [
    "df.columns"
   ]
  },
  {
   "cell_type": "code",
   "execution_count": 12,
   "metadata": {},
   "outputs": [
    {
     "data": {
      "text/html": [
       "<div>\n",
       "<style scoped>\n",
       "    .dataframe tbody tr th:only-of-type {\n",
       "        vertical-align: middle;\n",
       "    }\n",
       "\n",
       "    .dataframe tbody tr th {\n",
       "        vertical-align: top;\n",
       "    }\n",
       "\n",
       "    .dataframe thead th {\n",
       "        text-align: right;\n",
       "    }\n",
       "</style>\n",
       "<table border=\"1\" class=\"dataframe\">\n",
       "  <thead>\n",
       "    <tr style=\"text-align: right;\">\n",
       "      <th></th>\n",
       "      <th>TYPE</th>\n",
       "      <th>YEAR</th>\n",
       "      <th>MONTH</th>\n",
       "      <th>DAY</th>\n",
       "      <th>HOUR</th>\n",
       "      <th>HUNDRED_BLOCK</th>\n",
       "      <th>NEIGHBOURHOOD</th>\n",
       "    </tr>\n",
       "  </thead>\n",
       "  <tbody>\n",
       "    <tr>\n",
       "      <th>0</th>\n",
       "      <td>Other Theft</td>\n",
       "      <td>2003</td>\n",
       "      <td>5</td>\n",
       "      <td>12</td>\n",
       "      <td>16.0</td>\n",
       "      <td>9XX TERMINAL AVE</td>\n",
       "      <td>Strathcona</td>\n",
       "    </tr>\n",
       "    <tr>\n",
       "      <th>1</th>\n",
       "      <td>Other Theft</td>\n",
       "      <td>2003</td>\n",
       "      <td>5</td>\n",
       "      <td>7</td>\n",
       "      <td>15.0</td>\n",
       "      <td>9XX TERMINAL AVE</td>\n",
       "      <td>Strathcona</td>\n",
       "    </tr>\n",
       "    <tr>\n",
       "      <th>2</th>\n",
       "      <td>Other Theft</td>\n",
       "      <td>2003</td>\n",
       "      <td>4</td>\n",
       "      <td>23</td>\n",
       "      <td>16.0</td>\n",
       "      <td>9XX TERMINAL AVE</td>\n",
       "      <td>Strathcona</td>\n",
       "    </tr>\n",
       "    <tr>\n",
       "      <th>3</th>\n",
       "      <td>Other Theft</td>\n",
       "      <td>2003</td>\n",
       "      <td>4</td>\n",
       "      <td>20</td>\n",
       "      <td>11.0</td>\n",
       "      <td>9XX TERMINAL AVE</td>\n",
       "      <td>Strathcona</td>\n",
       "    </tr>\n",
       "    <tr>\n",
       "      <th>4</th>\n",
       "      <td>Other Theft</td>\n",
       "      <td>2003</td>\n",
       "      <td>4</td>\n",
       "      <td>12</td>\n",
       "      <td>17.0</td>\n",
       "      <td>9XX TERMINAL AVE</td>\n",
       "      <td>Strathcona</td>\n",
       "    </tr>\n",
       "    <tr>\n",
       "      <th>...</th>\n",
       "      <td>...</td>\n",
       "      <td>...</td>\n",
       "      <td>...</td>\n",
       "      <td>...</td>\n",
       "      <td>...</td>\n",
       "      <td>...</td>\n",
       "      <td>...</td>\n",
       "    </tr>\n",
       "    <tr>\n",
       "      <th>530647</th>\n",
       "      <td>Break and Enter Residential/Other</td>\n",
       "      <td>2017</td>\n",
       "      <td>3</td>\n",
       "      <td>3</td>\n",
       "      <td>9.0</td>\n",
       "      <td>31XX ADANAC ST</td>\n",
       "      <td>Hastings-Sunrise</td>\n",
       "    </tr>\n",
       "    <tr>\n",
       "      <th>530648</th>\n",
       "      <td>Mischief</td>\n",
       "      <td>2017</td>\n",
       "      <td>5</td>\n",
       "      <td>29</td>\n",
       "      <td>22.0</td>\n",
       "      <td>14XX E 7TH AVE</td>\n",
       "      <td>Grandview-Woodland</td>\n",
       "    </tr>\n",
       "    <tr>\n",
       "      <th>530649</th>\n",
       "      <td>Offence Against a Person</td>\n",
       "      <td>2017</td>\n",
       "      <td>4</td>\n",
       "      <td>13</td>\n",
       "      <td>NaN</td>\n",
       "      <td>OFFSET TO PROTECT PRIVACY</td>\n",
       "      <td>NaN</td>\n",
       "    </tr>\n",
       "    <tr>\n",
       "      <th>530650</th>\n",
       "      <td>Theft from Vehicle</td>\n",
       "      <td>2017</td>\n",
       "      <td>6</td>\n",
       "      <td>5</td>\n",
       "      <td>17.0</td>\n",
       "      <td>8XX HAMILTON ST</td>\n",
       "      <td>Central Business District</td>\n",
       "    </tr>\n",
       "    <tr>\n",
       "      <th>530651</th>\n",
       "      <td>Vehicle Collision or Pedestrian Struck (with I...</td>\n",
       "      <td>2017</td>\n",
       "      <td>6</td>\n",
       "      <td>6</td>\n",
       "      <td>17.0</td>\n",
       "      <td>13XX BLOCK PARK DR</td>\n",
       "      <td>Marpole</td>\n",
       "    </tr>\n",
       "  </tbody>\n",
       "</table>\n",
       "<p>530652 rows × 7 columns</p>\n",
       "</div>"
      ],
      "text/plain": [
       "                                                     TYPE  YEAR  MONTH  DAY  \\\n",
       "0                                             Other Theft  2003      5   12   \n",
       "1                                             Other Theft  2003      5    7   \n",
       "2                                             Other Theft  2003      4   23   \n",
       "3                                             Other Theft  2003      4   20   \n",
       "4                                             Other Theft  2003      4   12   \n",
       "...                                                   ...   ...    ...  ...   \n",
       "530647                  Break and Enter Residential/Other  2017      3    3   \n",
       "530648                                           Mischief  2017      5   29   \n",
       "530649                           Offence Against a Person  2017      4   13   \n",
       "530650                                 Theft from Vehicle  2017      6    5   \n",
       "530651  Vehicle Collision or Pedestrian Struck (with I...  2017      6    6   \n",
       "\n",
       "        HOUR              HUNDRED_BLOCK              NEIGHBOURHOOD  \n",
       "0       16.0           9XX TERMINAL AVE                 Strathcona  \n",
       "1       15.0           9XX TERMINAL AVE                 Strathcona  \n",
       "2       16.0           9XX TERMINAL AVE                 Strathcona  \n",
       "3       11.0           9XX TERMINAL AVE                 Strathcona  \n",
       "4       17.0           9XX TERMINAL AVE                 Strathcona  \n",
       "...      ...                        ...                        ...  \n",
       "530647   9.0             31XX ADANAC ST           Hastings-Sunrise  \n",
       "530648  22.0             14XX E 7TH AVE         Grandview-Woodland  \n",
       "530649   NaN  OFFSET TO PROTECT PRIVACY                        NaN  \n",
       "530650  17.0            8XX HAMILTON ST  Central Business District  \n",
       "530651  17.0         13XX BLOCK PARK DR                    Marpole  \n",
       "\n",
       "[530652 rows x 7 columns]"
      ]
     },
     "execution_count": 12,
     "metadata": {},
     "output_type": "execute_result"
    }
   ],
   "source": [
    "df.drop(columns=df_drop)"
   ]
  },
  {
   "cell_type": "code",
   "execution_count": 13,
   "metadata": {},
   "outputs": [
    {
     "data": {
      "text/plain": [
       "Index(['TYPE', 'YEAR', 'MONTH', 'DAY', 'HOUR', 'MINUTE', 'HUNDRED_BLOCK',\n",
       "       'NEIGHBOURHOOD', 'X', 'Y', 'Latitude', 'Longitude'],\n",
       "      dtype='object')"
      ]
     },
     "execution_count": 13,
     "metadata": {},
     "output_type": "execute_result"
    }
   ],
   "source": [
    "df.columns"
   ]
  },
  {
   "cell_type": "code",
   "execution_count": 14,
   "metadata": {},
   "outputs": [],
   "source": [
    "df = df.dropna()"
   ]
  },
  {
   "cell_type": "code",
   "execution_count": 15,
   "metadata": {},
   "outputs": [
    {
     "data": {
      "text/plain": [
       "TYPE             0\n",
       "YEAR             0\n",
       "MONTH            0\n",
       "DAY              0\n",
       "HOUR             0\n",
       "MINUTE           0\n",
       "HUNDRED_BLOCK    0\n",
       "NEIGHBOURHOOD    0\n",
       "X                0\n",
       "Y                0\n",
       "Latitude         0\n",
       "Longitude        0\n",
       "dtype: int64"
      ]
     },
     "execution_count": 15,
     "metadata": {},
     "output_type": "execute_result"
    }
   ],
   "source": [
    "df.isnull().sum()"
   ]
  },
  {
   "cell_type": "markdown",
   "metadata": {},
   "source": [
    "#### ANALYZE DATA"
   ]
  },
  {
   "cell_type": "markdown",
   "metadata": {},
   "source": [
    "HOW MANY NEIGHBOURHOODS ARE IN THE DATASET"
   ]
  },
  {
   "cell_type": "code",
   "execution_count": 16,
   "metadata": {},
   "outputs": [
    {
     "name": "stdout",
     "output_type": "stream",
     "text": [
      "There are 24 listed neighbourhoods, and they are:\n",
      "['Strathcona' 'Kerrisdale' 'Dunbar-Southlands' 'Grandview-Woodland'\n",
      " 'Sunset' 'West End' 'Central Business District' 'Hastings-Sunrise'\n",
      " 'Victoria-Fraserview' 'Fairview' 'Kensington-Cedar Cottage'\n",
      " 'West Point Grey' 'Shaughnessy' 'Renfrew-Collingwood' 'Killarney'\n",
      " 'Riley Park' 'Arbutus Ridge' 'Musqueam' 'Mount Pleasant' 'Kitsilano'\n",
      " 'Stanley Park' 'South Cambie' 'Marpole' 'Oakridge']\n"
     ]
    }
   ],
   "source": [
    "print('There are ' + str(df.NEIGHBOURHOOD.nunique()) + ' listed neighbourhoods, and they are:')\n",
    "print(df.NEIGHBOURHOOD.unique())"
   ]
  },
  {
   "cell_type": "markdown",
   "metadata": {},
   "source": [
    "WHAT IS THE HIGHEST CRIME COMMITED "
   ]
  },
  {
   "cell_type": "code",
   "execution_count": 17,
   "metadata": {},
   "outputs": [
    {
     "data": {
      "text/html": [
       "<div>\n",
       "<style scoped>\n",
       "    .dataframe tbody tr th:only-of-type {\n",
       "        vertical-align: middle;\n",
       "    }\n",
       "\n",
       "    .dataframe tbody tr th {\n",
       "        vertical-align: top;\n",
       "    }\n",
       "\n",
       "    .dataframe thead th {\n",
       "        text-align: right;\n",
       "    }\n",
       "</style>\n",
       "<table border=\"1\" class=\"dataframe\">\n",
       "  <thead>\n",
       "    <tr style=\"text-align: right;\">\n",
       "      <th></th>\n",
       "      <th>NEIGHBOURHOOD</th>\n",
       "      <th>TYPE</th>\n",
       "      <th>YEAR</th>\n",
       "    </tr>\n",
       "  </thead>\n",
       "  <tbody>\n",
       "    <tr>\n",
       "      <th>0</th>\n",
       "      <td>Strathcona</td>\n",
       "      <td>Other Theft</td>\n",
       "      <td>2003</td>\n",
       "    </tr>\n",
       "    <tr>\n",
       "      <th>1</th>\n",
       "      <td>Strathcona</td>\n",
       "      <td>Other Theft</td>\n",
       "      <td>2003</td>\n",
       "    </tr>\n",
       "    <tr>\n",
       "      <th>2</th>\n",
       "      <td>Strathcona</td>\n",
       "      <td>Other Theft</td>\n",
       "      <td>2003</td>\n",
       "    </tr>\n",
       "    <tr>\n",
       "      <th>3</th>\n",
       "      <td>Strathcona</td>\n",
       "      <td>Other Theft</td>\n",
       "      <td>2003</td>\n",
       "    </tr>\n",
       "    <tr>\n",
       "      <th>4</th>\n",
       "      <td>Strathcona</td>\n",
       "      <td>Other Theft</td>\n",
       "      <td>2003</td>\n",
       "    </tr>\n",
       "  </tbody>\n",
       "</table>\n",
       "</div>"
      ],
      "text/plain": [
       "  NEIGHBOURHOOD         TYPE  YEAR\n",
       "0    Strathcona  Other Theft  2003\n",
       "1    Strathcona  Other Theft  2003\n",
       "2    Strathcona  Other Theft  2003\n",
       "3    Strathcona  Other Theft  2003\n",
       "4    Strathcona  Other Theft  2003"
      ]
     },
     "execution_count": 17,
     "metadata": {},
     "output_type": "execute_result"
    }
   ],
   "source": [
    "barplot = pd.DataFrame([df['NEIGHBOURHOOD'], df['TYPE'], df['YEAR']]).T\n",
    "barplot.head()\n"
   ]
  },
  {
   "cell_type": "code",
   "execution_count": 18,
   "metadata": {},
   "outputs": [
    {
     "data": {
      "text/plain": [
       "Theft from Vehicle                                        170889\n",
       "Mischief                                                   70157\n",
       "Break and Enter Residential/Other                          60856\n",
       "Other Theft                                                52160\n",
       "Theft of Vehicle                                           38351\n",
       "Break and Enter Commercial                                 33841\n",
       "Theft of Bicycle                                           25620\n",
       "Vehicle Collision or Pedestrian Struck (with Injury)       21887\n",
       "Vehicle Collision or Pedestrian Struck (with Fatality)       254\n",
       "Name: TYPE, dtype: int64"
      ]
     },
     "execution_count": 18,
     "metadata": {},
     "output_type": "execute_result"
    }
   ],
   "source": [
    "crimerate = df['TYPE'].value_counts()\n",
    "crimerate"
   ]
  },
  {
   "cell_type": "code",
   "execution_count": 19,
   "metadata": {},
   "outputs": [
    {
     "data": {
      "image/png": "[encoded data removed]",
      "text/plain": [
       "<Figure size 600x500 with 1 Axes>"
      ]
     },
     "metadata": {},
     "output_type": "display_data"
    }
   ],
   "source": [
    "crimerate_countplt, crime_ax  = plt.subplots(figsize=(6,5))\n",
    "\n",
    "sns.countplot(y=df['TYPE'], ax = crime_ax, palette='pastel')\n",
    "\n",
    "plt.title('Crime Frequency', fontweight = 'bold', fontsize = '11')\n",
    "plt.xlabel('Crime count')\n",
    "plt.ylabel('Crime category')\n",
    "plt.show()\n",
    "\n"
   ]
  },
  {
   "cell_type": "markdown",
   "metadata": {},
   "source": [
    "Analysis from this dataset show that Theft from Vehicle is the highest crime in vancouver from 2003-2017"
   ]
  },
  {
   "cell_type": "markdown",
   "metadata": {},
   "source": [
    "HOW MANY CRIMES WERE COMMITED IN EACH NEIGHBOURHOOD?"
   ]
  },
  {
   "cell_type": "code",
   "execution_count": 20,
   "metadata": {},
   "outputs": [
    {
     "data": {
      "text/html": [
       "<div>\n",
       "<style scoped>\n",
       "    .dataframe tbody tr th:only-of-type {\n",
       "        vertical-align: middle;\n",
       "    }\n",
       "\n",
       "    .dataframe tbody tr th {\n",
       "        vertical-align: top;\n",
       "    }\n",
       "\n",
       "    .dataframe thead th {\n",
       "        text-align: right;\n",
       "    }\n",
       "</style>\n",
       "<table border=\"1\" class=\"dataframe\">\n",
       "  <thead>\n",
       "    <tr style=\"text-align: right;\">\n",
       "      <th></th>\n",
       "      <th>NEIGHBOURHOOD</th>\n",
       "      <th>TYPE</th>\n",
       "    </tr>\n",
       "  </thead>\n",
       "  <tbody>\n",
       "    <tr>\n",
       "      <th>0</th>\n",
       "      <td>Strathcona</td>\n",
       "      <td>Other Theft</td>\n",
       "    </tr>\n",
       "    <tr>\n",
       "      <th>1</th>\n",
       "      <td>Strathcona</td>\n",
       "      <td>Other Theft</td>\n",
       "    </tr>\n",
       "    <tr>\n",
       "      <th>2</th>\n",
       "      <td>Strathcona</td>\n",
       "      <td>Other Theft</td>\n",
       "    </tr>\n",
       "    <tr>\n",
       "      <th>3</th>\n",
       "      <td>Strathcona</td>\n",
       "      <td>Other Theft</td>\n",
       "    </tr>\n",
       "    <tr>\n",
       "      <th>4</th>\n",
       "      <td>Strathcona</td>\n",
       "      <td>Other Theft</td>\n",
       "    </tr>\n",
       "  </tbody>\n",
       "</table>\n",
       "</div>"
      ],
      "text/plain": [
       "  NEIGHBOURHOOD         TYPE\n",
       "0    Strathcona  Other Theft\n",
       "1    Strathcona  Other Theft\n",
       "2    Strathcona  Other Theft\n",
       "3    Strathcona  Other Theft\n",
       "4    Strathcona  Other Theft"
      ]
     },
     "execution_count": 20,
     "metadata": {},
     "output_type": "execute_result"
    }
   ],
   "source": [
    "neighbourhood = pd.DataFrame([df['NEIGHBOURHOOD'], df['TYPE']]).T\n",
    "neighbourhood.head()"
   ]
  },
  {
   "cell_type": "code",
   "execution_count": 21,
   "metadata": {},
   "outputs": [
    {
     "data": {
      "text/html": [
       "<div>\n",
       "<style scoped>\n",
       "    .dataframe tbody tr th:only-of-type {\n",
       "        vertical-align: middle;\n",
       "    }\n",
       "\n",
       "    .dataframe tbody tr th {\n",
       "        vertical-align: top;\n",
       "    }\n",
       "\n",
       "    .dataframe thead th {\n",
       "        text-align: right;\n",
       "    }\n",
       "</style>\n",
       "<table border=\"1\" class=\"dataframe\">\n",
       "  <thead>\n",
       "    <tr style=\"text-align: right;\">\n",
       "      <th></th>\n",
       "      <th>Neighbourhood</th>\n",
       "      <th>Total</th>\n",
       "    </tr>\n",
       "  </thead>\n",
       "  <tbody>\n",
       "    <tr>\n",
       "      <th>0</th>\n",
       "      <td>Arbutus Ridge</td>\n",
       "      <td>6066</td>\n",
       "    </tr>\n",
       "    <tr>\n",
       "      <th>1</th>\n",
       "      <td>Central Business District</td>\n",
       "      <td>110945</td>\n",
       "    </tr>\n",
       "    <tr>\n",
       "      <th>2</th>\n",
       "      <td>Dunbar-Southlands</td>\n",
       "      <td>7746</td>\n",
       "    </tr>\n",
       "    <tr>\n",
       "      <th>3</th>\n",
       "      <td>Fairview</td>\n",
       "      <td>32161</td>\n",
       "    </tr>\n",
       "    <tr>\n",
       "      <th>4</th>\n",
       "      <td>Grandview-Woodland</td>\n",
       "      <td>27180</td>\n",
       "    </tr>\n",
       "    <tr>\n",
       "      <th>5</th>\n",
       "      <td>Hastings-Sunrise</td>\n",
       "      <td>18126</td>\n",
       "    </tr>\n",
       "    <tr>\n",
       "      <th>6</th>\n",
       "      <td>Kensington-Cedar Cottage</td>\n",
       "      <td>24941</td>\n",
       "    </tr>\n",
       "    <tr>\n",
       "      <th>7</th>\n",
       "      <td>Kerrisdale</td>\n",
       "      <td>7447</td>\n",
       "    </tr>\n",
       "    <tr>\n",
       "      <th>8</th>\n",
       "      <td>Killarney</td>\n",
       "      <td>10475</td>\n",
       "    </tr>\n",
       "    <tr>\n",
       "      <th>9</th>\n",
       "      <td>Kitsilano</td>\n",
       "      <td>26698</td>\n",
       "    </tr>\n",
       "    <tr>\n",
       "      <th>10</th>\n",
       "      <td>Marpole</td>\n",
       "      <td>13083</td>\n",
       "    </tr>\n",
       "    <tr>\n",
       "      <th>11</th>\n",
       "      <td>Mount Pleasant</td>\n",
       "      <td>30534</td>\n",
       "    </tr>\n",
       "    <tr>\n",
       "      <th>12</th>\n",
       "      <td>Musqueam</td>\n",
       "      <td>532</td>\n",
       "    </tr>\n",
       "    <tr>\n",
       "      <th>13</th>\n",
       "      <td>Oakridge</td>\n",
       "      <td>8035</td>\n",
       "    </tr>\n",
       "    <tr>\n",
       "      <th>14</th>\n",
       "      <td>Renfrew-Collingwood</td>\n",
       "      <td>26761</td>\n",
       "    </tr>\n",
       "    <tr>\n",
       "      <th>15</th>\n",
       "      <td>Riley Park</td>\n",
       "      <td>12520</td>\n",
       "    </tr>\n",
       "    <tr>\n",
       "      <th>16</th>\n",
       "      <td>Shaughnessy</td>\n",
       "      <td>5426</td>\n",
       "    </tr>\n",
       "    <tr>\n",
       "      <th>17</th>\n",
       "      <td>South Cambie</td>\n",
       "      <td>5212</td>\n",
       "    </tr>\n",
       "    <tr>\n",
       "      <th>18</th>\n",
       "      <td>Stanley Park</td>\n",
       "      <td>3775</td>\n",
       "    </tr>\n",
       "    <tr>\n",
       "      <th>19</th>\n",
       "      <td>Strathcona</td>\n",
       "      <td>20917</td>\n",
       "    </tr>\n",
       "    <tr>\n",
       "      <th>20</th>\n",
       "      <td>Sunset</td>\n",
       "      <td>17395</td>\n",
       "    </tr>\n",
       "    <tr>\n",
       "      <th>21</th>\n",
       "      <td>Victoria-Fraserview</td>\n",
       "      <td>10818</td>\n",
       "    </tr>\n",
       "    <tr>\n",
       "      <th>22</th>\n",
       "      <td>West End</td>\n",
       "      <td>41352</td>\n",
       "    </tr>\n",
       "    <tr>\n",
       "      <th>23</th>\n",
       "      <td>West Point Grey</td>\n",
       "      <td>5870</td>\n",
       "    </tr>\n",
       "  </tbody>\n",
       "</table>\n",
       "</div>"
      ],
      "text/plain": [
       "                Neighbourhood   Total\n",
       "0               Arbutus Ridge    6066\n",
       "1   Central Business District  110945\n",
       "2           Dunbar-Southlands    7746\n",
       "3                    Fairview   32161\n",
       "4          Grandview-Woodland   27180\n",
       "5            Hastings-Sunrise   18126\n",
       "6    Kensington-Cedar Cottage   24941\n",
       "7                  Kerrisdale    7447\n",
       "8                   Killarney   10475\n",
       "9                   Kitsilano   26698\n",
       "10                    Marpole   13083\n",
       "11             Mount Pleasant   30534\n",
       "12                   Musqueam     532\n",
       "13                   Oakridge    8035\n",
       "14        Renfrew-Collingwood   26761\n",
       "15                 Riley Park   12520\n",
       "16                Shaughnessy    5426\n",
       "17               South Cambie    5212\n",
       "18               Stanley Park    3775\n",
       "19                 Strathcona   20917\n",
       "20                     Sunset   17395\n",
       "21        Victoria-Fraserview   10818\n",
       "22                   West End   41352\n",
       "23            West Point Grey    5870"
      ]
     },
     "execution_count": 21,
     "metadata": {},
     "output_type": "execute_result"
    }
   ],
   "source": [
    "neighbourhoodT = neighbourhood.groupby(['NEIGHBOURHOOD']).count().reset_index()\n",
    "neighbourhoodT.columns = ['Neighbourhood', 'Total']\n",
    "neighbourhoodT\n"
   ]
  },
  {
   "cell_type": "code",
   "execution_count": 22,
   "metadata": {},
   "outputs": [],
   "source": [
    "ndf = pd.DataFrame(neighbourhoodT)"
   ]
  },
  {
   "cell_type": "code",
   "execution_count": 23,
   "metadata": {},
   "outputs": [
    {
     "data": {
      "image/png": "[encoded data removed]",
      "text/plain": [
       "<Figure size 1600x800 with 1 Axes>"
      ]
     },
     "metadata": {},
     "output_type": "display_data"
    }
   ],
   "source": [
    "plt.figure(figsize=(16, 8))\n",
    "ax = sns.barplot(x='Neighbourhood', y='Total', data=ndf)\n",
    "ax.set_xticklabels(ax.get_xticklabels(), rotation=45, ha=\"right\")\n",
    "\n",
    "\n",
    "# Add values on top of each bar\n",
    "for p in ax.patches:\n",
    "    tot = int(p.get_height())\n",
    "    ax.annotate(f'{tot}', (p.get_x() + p.get_width() / 2, p.get_height()), ha='center', va='bottom')\n",
    "\n",
    "plt.xlabel('Category')\n",
    "plt.ylabel('Value')\n",
    "plt.title('Bar Plot with Values on Each Bar')\n",
    "plt.show()"
   ]
  },
  {
   "cell_type": "markdown",
   "metadata": {},
   "source": [
    "WHAT YEAR HAD THE HIGHEST NUMBER OF CRIMES COMMITED?"
   ]
  },
  {
   "cell_type": "code",
   "execution_count": 24,
   "metadata": {},
   "outputs": [],
   "source": [
    "year = pd.DataFrame([df['YEAR'], df['TYPE']]).T"
   ]
  },
  {
   "cell_type": "code",
   "execution_count": 25,
   "metadata": {},
   "outputs": [
    {
     "data": {
      "text/html": [
       "<div>\n",
       "<style scoped>\n",
       "    .dataframe tbody tr th:only-of-type {\n",
       "        vertical-align: middle;\n",
       "    }\n",
       "\n",
       "    .dataframe tbody tr th {\n",
       "        vertical-align: top;\n",
       "    }\n",
       "\n",
       "    .dataframe thead th {\n",
       "        text-align: right;\n",
       "    }\n",
       "</style>\n",
       "<table border=\"1\" class=\"dataframe\">\n",
       "  <thead>\n",
       "    <tr style=\"text-align: right;\">\n",
       "      <th></th>\n",
       "      <th>YEAR</th>\n",
       "      <th>TYPE</th>\n",
       "    </tr>\n",
       "  </thead>\n",
       "  <tbody>\n",
       "    <tr>\n",
       "      <th>0</th>\n",
       "      <td>2003</td>\n",
       "      <td>Other Theft</td>\n",
       "    </tr>\n",
       "    <tr>\n",
       "      <th>1</th>\n",
       "      <td>2003</td>\n",
       "      <td>Other Theft</td>\n",
       "    </tr>\n",
       "    <tr>\n",
       "      <th>2</th>\n",
       "      <td>2003</td>\n",
       "      <td>Other Theft</td>\n",
       "    </tr>\n",
       "    <tr>\n",
       "      <th>3</th>\n",
       "      <td>2003</td>\n",
       "      <td>Other Theft</td>\n",
       "    </tr>\n",
       "    <tr>\n",
       "      <th>4</th>\n",
       "      <td>2003</td>\n",
       "      <td>Other Theft</td>\n",
       "    </tr>\n",
       "  </tbody>\n",
       "</table>\n",
       "</div>"
      ],
      "text/plain": [
       "   YEAR         TYPE\n",
       "0  2003  Other Theft\n",
       "1  2003  Other Theft\n",
       "2  2003  Other Theft\n",
       "3  2003  Other Theft\n",
       "4  2003  Other Theft"
      ]
     },
     "execution_count": 25,
     "metadata": {},
     "output_type": "execute_result"
    }
   ],
   "source": [
    "year.head()"
   ]
  },
  {
   "cell_type": "code",
   "execution_count": 26,
   "metadata": {},
   "outputs": [
    {
     "data": {
      "text/html": [
       "<div>\n",
       "<style scoped>\n",
       "    .dataframe tbody tr th:only-of-type {\n",
       "        vertical-align: middle;\n",
       "    }\n",
       "\n",
       "    .dataframe tbody tr th {\n",
       "        vertical-align: top;\n",
       "    }\n",
       "\n",
       "    .dataframe thead th {\n",
       "        text-align: right;\n",
       "    }\n",
       "</style>\n",
       "<table border=\"1\" class=\"dataframe\">\n",
       "  <thead>\n",
       "    <tr style=\"text-align: right;\">\n",
       "      <th></th>\n",
       "      <th>Year</th>\n",
       "      <th>Total</th>\n",
       "    </tr>\n",
       "  </thead>\n",
       "  <tbody>\n",
       "    <tr>\n",
       "      <th>0</th>\n",
       "      <td>2003</td>\n",
       "      <td>45885</td>\n",
       "    </tr>\n",
       "    <tr>\n",
       "      <th>1</th>\n",
       "      <td>2004</td>\n",
       "      <td>45035</td>\n",
       "    </tr>\n",
       "    <tr>\n",
       "      <th>2</th>\n",
       "      <td>2005</td>\n",
       "      <td>40522</td>\n",
       "    </tr>\n",
       "    <tr>\n",
       "      <th>3</th>\n",
       "      <td>2006</td>\n",
       "      <td>37767</td>\n",
       "    </tr>\n",
       "    <tr>\n",
       "      <th>4</th>\n",
       "      <td>2007</td>\n",
       "      <td>33161</td>\n",
       "    </tr>\n",
       "    <tr>\n",
       "      <th>5</th>\n",
       "      <td>2008</td>\n",
       "      <td>31070</td>\n",
       "    </tr>\n",
       "    <tr>\n",
       "      <th>6</th>\n",
       "      <td>2009</td>\n",
       "      <td>28197</td>\n",
       "    </tr>\n",
       "    <tr>\n",
       "      <th>7</th>\n",
       "      <td>2010</td>\n",
       "      <td>25874</td>\n",
       "    </tr>\n",
       "    <tr>\n",
       "      <th>8</th>\n",
       "      <td>2011</td>\n",
       "      <td>24633</td>\n",
       "    </tr>\n",
       "    <tr>\n",
       "      <th>9</th>\n",
       "      <td>2012</td>\n",
       "      <td>25378</td>\n",
       "    </tr>\n",
       "    <tr>\n",
       "      <th>10</th>\n",
       "      <td>2013</td>\n",
       "      <td>25323</td>\n",
       "    </tr>\n",
       "    <tr>\n",
       "      <th>11</th>\n",
       "      <td>2014</td>\n",
       "      <td>29430</td>\n",
       "    </tr>\n",
       "    <tr>\n",
       "      <th>12</th>\n",
       "      <td>2015</td>\n",
       "      <td>31020</td>\n",
       "    </tr>\n",
       "    <tr>\n",
       "      <th>13</th>\n",
       "      <td>2016</td>\n",
       "      <td>34515</td>\n",
       "    </tr>\n",
       "    <tr>\n",
       "      <th>14</th>\n",
       "      <td>2017</td>\n",
       "      <td>16205</td>\n",
       "    </tr>\n",
       "  </tbody>\n",
       "</table>\n",
       "</div>"
      ],
      "text/plain": [
       "    Year  Total\n",
       "0   2003  45885\n",
       "1   2004  45035\n",
       "2   2005  40522\n",
       "3   2006  37767\n",
       "4   2007  33161\n",
       "5   2008  31070\n",
       "6   2009  28197\n",
       "7   2010  25874\n",
       "8   2011  24633\n",
       "9   2012  25378\n",
       "10  2013  25323\n",
       "11  2014  29430\n",
       "12  2015  31020\n",
       "13  2016  34515\n",
       "14  2017  16205"
      ]
     },
     "execution_count": 26,
     "metadata": {},
     "output_type": "execute_result"
    }
   ],
   "source": [
    "yearT =  year.groupby(['YEAR']).count().reset_index()\n",
    "yearT.columns = ['Year', 'Total']\n",
    "yearT\n",
    "\n"
   ]
  },
  {
   "cell_type": "markdown",
   "metadata": {},
   "source": [
    "from this data frame we can see that 2003 has the highest crime count"
   ]
  },
  {
   "cell_type": "markdown",
   "metadata": {},
   "source": [
    "VISUALIZATION OF DATAFRAME"
   ]
  },
  {
   "cell_type": "code",
   "execution_count": 27,
   "metadata": {},
   "outputs": [],
   "source": [
    "df = pd.DataFrame(yearT)"
   ]
  },
  {
   "cell_type": "code",
   "execution_count": 28,
   "metadata": {},
   "outputs": [
    {
     "data": {
      "image/png": "[encoded data removed]",
      "text/plain": [
       "<Figure size 1400x800 with 1 Axes>"
      ]
     },
     "metadata": {},
     "output_type": "display_data"
    }
   ],
   "source": [
    "plt.figure(figsize=(14,8))\n",
    "\n",
    "plt.plot(df['Year'], df['Total'], marker = 'o', linestyle ='-', color = 'red')\n",
    "label_offset = 4\n",
    "for index, row in df.iterrows():\n",
    "    plt.text(row['Year'], row['Total']+ label_offset, str(row['Total']), ha = 'right', va='top')\n",
    "\n",
    "\n",
    "plt.grid(True)    \n",
    "plt.tight_layout()\n",
    "plt.xlabel('Year')\n",
    "plt.ylabel('Total Crimes Per Year')\n",
    "plt.title('Line Plot of Total Crimes Over Years')\n",
    "plt.show()"
   ]
  },
  {
   "cell_type": "markdown",
   "metadata": {},
   "source": [
    "each point represents each value per year"
   ]
  },
  {
   "cell_type": "markdown",
   "metadata": {},
   "source": [
    "INSIGHT\n",
    "1.  There is a general increase from 2003 to 2006, followed by a decrease until around 2010, after which there's a mixture of fluctuations, including both increases and decreases.\n",
    "\n",
    "2. One noticeable anomaly is the sharp drop in the 'Total' scores in 2017, which is significantly lower compared to previous years. This might indicate a special event or a change in data collection or reporting methods in that particular year."
   ]
  },
  {
   "cell_type": "code",
   "execution_count": 29,
   "metadata": {},
   "outputs": [
    {
     "name": "stdout",
     "output_type": "stream",
     "text": [
      "    Year  Total  Annual Growth Rate\n",
      "0   2003  45885                 NaN\n",
      "1   2004  45035           -1.852457\n",
      "2   2005  40522          -10.021095\n",
      "3   2006  37767           -6.798776\n",
      "4   2007  33161          -12.195832\n",
      "5   2008  31070           -6.305600\n",
      "6   2009  28197           -9.246862\n",
      "7   2010  25874           -8.238465\n",
      "8   2011  24633           -4.796321\n",
      "9   2012  25378            3.024398\n",
      "10  2013  25323           -0.216723\n",
      "11  2014  29430           16.218458\n",
      "12  2015  31020            5.402650\n",
      "13  2016  34515           11.266925\n",
      "14  2017  16205          -53.049399\n"
     ]
    }
   ],
   "source": [
    "# Sample data\n",
    "\n",
    "dfy = pd.DataFrame(yearT)\n",
    "\n",
    "# Calculate the annual growth rate and add it as a new column\n",
    "dfy['Annual Growth Rate'] = dfy['Total'].pct_change() * 100  # Calculate as a percentage\n",
    "\n",
    "# Display the DataFrame with the growth rate column\n",
    "print(dfy)\n"
   ]
  },
  {
   "cell_type": "markdown",
   "metadata": {},
   "source": [
    "Here's a summary of the growth rates for each year:\n",
    "\n",
    "1. In 2004, there was a decrease of approximately -1.85% compared to 2003.\n",
    "2. In 2005, there was a decrease of approximately -10.02% compared to 2004.\n",
    "3. In 2006, there was a decrease of approximately -6.80% compared to 2005.\n",
    "4. In 2007, there was a decrease of approximately -12.20% compared to 2006.\n",
    "5. In 2008, there was a decrease of approximately -6.31% compared to 2007.\n",
    "6. In 2009, there was a decrease of approximately -9.25% compared to 2008.\n",
    "7. In 2010, there was a decrease of approximately -8.24% compared to 2009.\n",
    "8. In 2011, there was a decrease of approximately -4.80% compared to 2010.\n",
    "9. In 2012, there was an increase of approximately 3.02% compared to 2011.\n",
    "10. In 2013, there was a slight decrease of approximately -0.22% compared to 2012.\n",
    "11. In 2014, there was a significant increase of approximately 16.22% compared to 2013.\n",
    "12. In 2015, there was an increase of approximately 5.40% compared to 2014.\n",
    "13. In 2016, there was an increase of approximately 11.27% compared to 2015.\n",
    "14. In 2017, there was a significant decrease of approximately -53.05% compared to 2016."
   ]
  },
  {
   "cell_type": "markdown",
   "metadata": {},
   "source": [
    "## Conclusion\n",
    "\n",
    "\n",
    "1. From the crime records, we have 24 neighbourhoods in Vancouver and Central Business district is the         neighbourhood with the highest number of crimes.\n",
    "2. Theft from vehicle is the highest occuring crime in Vancouver with a total of 170889 counts in this dataset.\n",
    "3. Number of crimes has decreased from 2004 - 2011 but we highlighted the spike in crimes between 2013-2016 and a     sudden drop in 2017.\n",
    "4. The central business district neighbourhood has the most crime recordings with a total of 110945\n",
    "\n"
   ]
  },
  {
   "cell_type": "code",
   "execution_count": null,
   "metadata": {},
   "outputs": [],
   "source": []
  }
 ],
 "metadata": {
  "kernelspec": {
   "display_name": "Python 3 (ipykernel)",
   "language": "python",
   "name": "python3"
  },
  "language_info": {
   "codemirror_mode": {
    "name": "ipython",
    "version": 3
   },
   "file_extension": ".py",
   "mimetype": "text/x-python",
   "name": "python",
   "nbconvert_exporter": "python",
   "pygments_lexer": "ipython3",
   "version": "3.10.9"
  },
  "vscode": {
   "interpreter": {
    "hash": "a8fa9087f5a51bae228133fc9c819300269d33193c21821c6b5e3a1628ba6708"
   }
  }
 },
 "nbformat": 4,
 "nbformat_minor": 2
}
